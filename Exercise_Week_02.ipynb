{
  "nbformat": 4,
  "nbformat_minor": 0,
  "metadata": {
    "colab": {
      "provenance": [],
      "authorship_tag": "ABX9TyPG+YJCcSWpKIrr5k6/sGzQ",
      "include_colab_link": true
    },
    "kernelspec": {
      "name": "python3",
      "display_name": "Python 3"
    },
    "language_info": {
      "name": "python"
    }
  },
  "cells": [
    {
      "cell_type": "markdown",
      "metadata": {
        "id": "view-in-github",
        "colab_type": "text"
      },
      "source": [
        "<a href=\"https://colab.research.google.com/github/hakkanazrul06/PRAKTIKUMPROJEK1/blob/main/Exercise_Week_02.ipynb\" target=\"_parent\"><img src=\"https://colab.research.google.com/assets/colab-badge.svg\" alt=\"Open In Colab\"/></a>"
      ]
    },
    {
      "cell_type": "code",
      "execution_count": null,
      "metadata": {
        "id": "X8tyHMQ6lM9B",
        "colab": {
          "base_uri": "https://localhost:8080/"
        },
        "outputId": "fc792c36-3b3e-43c0-d335-1df0efd2c3b2"
      },
      "outputs": [
        {
          "output_type": "stream",
          "name": "stdout",
          "text": [
            "Panjang =  20.5\n",
            "Lebar =  25\n",
            "Tinggi =  10\n",
            "Keliling =  91.0\n",
            "Volume =  5125.0\n"
          ]
        }
      ],
      "source": [
        "panjang = 20.5\n",
        "lebar = 25\n",
        "tinggi = 10\n",
        "\n",
        "keliling = 2 * (panjang + lebar)\n",
        "luas = panjang * lebar\n",
        "volume = panjang * lebar * tinggi\n",
        "\n",
        "print(\"Panjang = \", panjang)\n",
        "print(\"Lebar = \", lebar)\n",
        "print(\"Tinggi = \", tinggi)\n",
        "print(\"Keliling = \", keliling)\n",
        "print(\"Volume = \", volume)"
      ]
    },
    {
      "cell_type": "code",
      "source": [
        "ratashafira = ((75 + 85)/2)\n",
        "jumlahnilaihanifandi = (75 + 90 + 90 + 75)\n",
        "ratanilai_w_d_h_n_kalkulus = ((85 + 85 + 80 + 90)/4)\n",
        "ratanilai_w_d_h_n_statistika = ((85 + 85 + 75 + 80)/4)\n",
        "nilairatakalkulus = ((85 + 80 + 75 + 95 + 85 + 75 + 70 + 85 + 80)/9)\n",
        "nilairatamstatistika = ((75 + 90 + 80 + 80 + 85 + 90 + 75 + 85 + 75)/9)\n",
        "\n",
        "print(ratashafira)\n",
        "print(jumlahnilaihanifandi)\n",
        "print(ratanilai_w_d_h_n_kalkulus)\n",
        "print(ratanilai_w_d_h_n_statistika)\n",
        "print(nilairatakalkulus)\n",
        "print(nilairatamstatistika)"
      ],
      "metadata": {
        "id": "H3BKPqXpUfzG",
        "colab": {
          "base_uri": "https://localhost:8080/"
        },
        "outputId": "2825d0c3-3fc2-48a6-a889-acc50e1fadf8"
      },
      "execution_count": 25,
      "outputs": [
        {
          "output_type": "stream",
          "name": "stdout",
          "text": [
            "80.0\n",
            "330\n",
            "85.0\n",
            "81.25\n",
            "81.11111111111111\n",
            "81.66666666666667\n"
          ]
        }
      ]
    },
    {
      "cell_type": "code",
      "source": [
        "# Awal\n",
        "gajiperjam = 30000\n",
        "harikerja = 22\n",
        "jam_kerja_per_hari = 8\n",
        "lembur = 5\n",
        "upahlembur_pjam = 10000\n",
        "haritidakmasuk = 3\n",
        "\n",
        "total_jam_kerja = jam_kerja_per_hari * harikerja\n",
        "\n",
        "gaji_awal = total_jam_kerja * gajiperjam\n",
        "\n",
        "jam_kerjahilang = haritidakmasuk * jam_kerja_per_hari\n",
        "gaji_afterpotongan = gaji_awal - (jam_kerjahilang * gajiperjam)\n",
        "\n",
        "tunjangan = 0.10 * gaji_afterpotongan\n",
        "\n",
        "gaji_lembur = lembur_jam * upahlembur_pjam\n",
        "\n",
        "gaji_total = gaji_afterpotongan + tunjangan + gaji_lembur\n",
        "\n",
        "print(\"Gaji bulan Agustus Dwi tidak masuk 3 hari: \", gaji_afterpotongan)\n",
        "print(\"Jumlah tunjangan Dwi: \", tunjangan)\n",
        "print(\"Gaji akhir Dwi setelah lembur: \", gaji_total)"
      ],
      "metadata": {
        "colab": {
          "base_uri": "https://localhost:8080/"
        },
        "id": "Jak2wf3G_KHs",
        "outputId": "890ffb0d-b345-43d6-9946-d1721ff36033"
      },
      "execution_count": 45,
      "outputs": [
        {
          "output_type": "stream",
          "name": "stdout",
          "text": [
            "Gaji bulan Agustus Dwi tidak masuk 3 hari:  4560000\n",
            "Jumlah tunjangan Dwi:  456000.0\n",
            "Gaji akhir Dwi setelah lembur:  5066000.0\n"
          ]
        }
      ]
    }
  ]
}