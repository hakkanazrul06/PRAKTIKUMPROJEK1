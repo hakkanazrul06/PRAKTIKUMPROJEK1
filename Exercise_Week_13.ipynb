{
  "nbformat": 4,
  "nbformat_minor": 0,
  "metadata": {
    "colab": {
      "provenance": [],
      "authorship_tag": "ABX9TyPZGd4JnHeRGCJtzjH4n6Nq",
      "include_colab_link": true
    },
    "kernelspec": {
      "name": "python3",
      "display_name": "Python 3"
    },
    "language_info": {
      "name": "python"
    }
  },
  "cells": [
    {
      "cell_type": "markdown",
      "metadata": {
        "id": "view-in-github",
        "colab_type": "text"
      },
      "source": [
        "<a href=\"https://colab.research.google.com/github/hakkanazrul06/PRAKTIKUMPROJEK1/blob/main/Exercise_Week_13.ipynb\" target=\"_parent\"><img src=\"https://colab.research.google.com/assets/colab-badge.svg\" alt=\"Open In Colab\"/></a>"
      ]
    },
    {
      "cell_type": "code",
      "execution_count": 2,
      "metadata": {
        "id": "65nfwRY6w0RW",
        "colab": {
          "base_uri": "https://localhost:8080/"
        },
        "outputId": "43a47dff-fc8a-417a-84a1-10ded450cbb0"
      },
      "outputs": [
        {
          "output_type": "stream",
          "name": "stdout",
          "text": [
            "Data Alat Tulis Sebelum Penjualan:\n",
            "{'Nama': 'Bolpoint', 'Stok': 10, 'Harga Satuan': 2000, 'Harga Total': 20000}\n",
            "{'Nama': 'Pensil', 'Stok': 10, 'Harga Satuan': 1000, 'Harga Total': 10000}\n",
            "{'Nama': 'Penghapus', 'Stok': 10, 'Harga Satuan': 500, 'Harga Total': 5000}\n",
            "10 Bolpoint berhasil terjual!\n",
            "10 Pensil berhasil terjual!\n",
            "10 Penghapus berhasil terjual!\n",
            "\n",
            "Data Alat Tulis Setelah Penjualan:\n",
            "{'Nama': 'Bolpoint', 'Stok': 0, 'Harga Satuan': 2000, 'Harga Total': 0}\n",
            "{'Nama': 'Pensil', 'Stok': 0, 'Harga Satuan': 1000, 'Harga Total': 0}\n",
            "{'Nama': 'Penghapus', 'Stok': 0, 'Harga Satuan': 500, 'Harga Total': 0}\n",
            "\n",
            "Total Pendapatan Keseluruhan: Rp. 35000\n"
          ]
        }
      ],
      "source": [
        "class AlatTulis:\n",
        "    def definisi (self, nama, stok, harga_satuan):\n",
        "        self.nama = nama\n",
        "        self.stok = stok\n",
        "        self.harga_satuan = harga_satuan\n",
        "        self.total_terjual = 0\n",
        "\n",
        "    def get_atribut(self):\n",
        "        return {\n",
        "            \"Nama\": self.nama,\n",
        "            \"Stok\": self.stok,\n",
        "            \"Harga Satuan\": self.harga_satuan,\n",
        "            \"Harga Total\": self.stok * self.harga_satuan,\n",
        "        }\n",
        "\n",
        "    def jual(self, jumlah):\n",
        "        if jumlah <= self.stok:\n",
        "            self.stok -= jumlah\n",
        "            self.total_terjual += jumlah\n",
        "            print(f\"{jumlah} {self.nama} sukses terjual.\")\n",
        "        else:\n",
        "            print(f\"Stok {self.nama} tidak cukup.\")\n",
        "\n",
        "    def pendapatan(self):\n",
        "        return self.total_terjual * self.harga_satuan\n",
        "\n",
        "def total_pendapatan_keseluruhan(*barang):\n",
        "    return sum(item.pendapatan() for item in barang)\n",
        "\n",
        "bolpoint = AlatTulis(\"Bolpoint\", 10, 2000)\n",
        "pensil = AlatTulis(\"Pensil\", 10, 1000)\n",
        "penghapus = AlatTulis(\"Penghapus\", 10, 500)\n",
        "\n",
        "print(\"Alat Tulis Sebelum Penjualan:\")\n",
        "for barang in [bolpoint, pensil, penghapus]:\n",
        "    print(barang.get_atribut())\n",
        "\n",
        "bolpoint.jual(10)\n",
        "pensil.jual(10)\n",
        "penghapus.jual(10)\n",
        "\n",
        "print(\"\\nAlat Tulis Setelah Penjualan:\")\n",
        "for barang in [bolpoint, pensil, penghapus]:\n",
        "    print(barang.get_atribut())\n",
        "\n",
        "print(f\"\\nTotal Pendapatan Keseluruhan: Rp. {total_pendapatan_keseluruhan(bolpoint, pensil, penghapus)}\")\n"
      ]
    }
  ]
}