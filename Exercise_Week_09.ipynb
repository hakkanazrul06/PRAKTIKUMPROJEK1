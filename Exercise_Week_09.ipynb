{
  "nbformat": 4,
  "nbformat_minor": 0,
  "metadata": {
    "colab": {
      "provenance": [],
      "authorship_tag": "ABX9TyMefECkCcLp6EoT1s1vX/l2",
      "include_colab_link": true
    },
    "kernelspec": {
      "name": "python3",
      "display_name": "Python 3"
    },
    "language_info": {
      "name": "python"
    }
  },
  "cells": [
    {
      "cell_type": "markdown",
      "metadata": {
        "id": "view-in-github",
        "colab_type": "text"
      },
      "source": [
        "<a href=\"https://colab.research.google.com/github/hakkanazrul06/PRAKTIKUMPROJEK1/blob/main/Exercise_Week_09.ipynb\" target=\"_parent\"><img src=\"https://colab.research.google.com/assets/colab-badge.svg\" alt=\"Open In Colab\"/></a>"
      ]
    },
    {
      "cell_type": "code",
      "execution_count": 2,
      "metadata": {
        "colab": {
          "base_uri": "https://localhost:8080/"
        },
        "id": "cEq1vDC0L-uO",
        "outputId": "aea41fbb-c7d4-41ae-8ddb-65c3500cb8b0"
      },
      "outputs": [
        {
          "output_type": "stream",
          "name": "stdout",
          "text": [
            "Nama: Hakkan Azrul Suseno\n",
            "Kelas: Rombel 1\n",
            "Tanggal Lahir: 19 Juni 2006\n",
            "No HP: 1111\n",
            "Alamat: Kalangan, Salaman\n",
            "Hobi: Bermain game, Bersepeda, Menggambar\n"
          ]
        }
      ],
      "source": [
        "datasiswa = {\n",
        "    \"Nama\": \"Hakkan Azrul Suseno\",\n",
        "    \"Kelas\": \"Rombel 1\",\n",
        "    \"Tanggal Lahir\": \"19 Juni 2006\",\n",
        "    \"No HP\": \"1111\",\n",
        "    \"Alamat\": \"Kalangan, Salaman\",\n",
        "    \"Hobi\": [\"Bermain game\", \"Bersepeda\", \"Menggambar\"]\n",
        "}\n",
        "\n",
        "for b, isi in datasiswa.items():\n",
        "    print(\"{}: {}\".format(b, ', '.join(isi) if isinstance(isi, list) else isi))"
      ]
    }
  ]
}