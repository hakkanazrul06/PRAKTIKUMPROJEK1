{
  "nbformat": 4,
  "nbformat_minor": 0,
  "metadata": {
    "colab": {
      "provenance": [],
      "authorship_tag": "ABX9TyNXTPl0WtPiZofRqd4tHMXD",
      "include_colab_link": true
    },
    "kernelspec": {
      "name": "python3",
      "display_name": "Python 3"
    },
    "language_info": {
      "name": "python"
    }
  },
  "cells": [
    {
      "cell_type": "markdown",
      "metadata": {
        "id": "view-in-github",
        "colab_type": "text"
      },
      "source": [
        "<a href=\"https://colab.research.google.com/github/hakkanazrul06/PRAKTIKUMPROJEK1/blob/main/Exercise_Week_06.ipynb\" target=\"_parent\"><img src=\"https://colab.research.google.com/assets/colab-badge.svg\" alt=\"Open In Colab\"/></a>"
      ]
    },
    {
      "cell_type": "code",
      "execution_count": 1,
      "metadata": {
        "colab": {
          "base_uri": "https://localhost:8080/"
        },
        "id": "PDvsKyCZYL-M",
        "outputId": "c48b34f6-dac0-43c4-c8a4-d7434123bc14"
      },
      "outputs": [
        {
          "output_type": "stream",
          "name": "stdout",
          "text": [
            "number: 5\n",
            "    *    \n",
            "   * *   \n",
            "  * * *  \n",
            " * * * * \n",
            "* * * * *\n"
          ]
        }
      ],
      "source": [
        "# Exerxcise 1\n",
        "num = int(input(\"number: \"))\n",
        "for i in range(1, num + 1):\n",
        "  print(\" \".join(\"*\" * i).center(num + num - 1))"
      ]
    },
    {
      "cell_type": "code",
      "source": [
        "# Exercise 2\n",
        "n = int(input(\"Tulislah angka: \"))\n",
        "res = [[1]]\n",
        "\n",
        "for i in range(1, n):\n",
        "    baris = [1]\n",
        "    for j in range(1, i):\n",
        "        baris.append(res[-1][j-1] + res[-1][j])\n",
        "    baris.append(1)\n",
        "    res.append(baris)\n",
        "\n",
        "lebar = len(\" \".join(map(str, res[-1])))\n",
        "\n",
        "for baris in res:\n",
        "    print(\" \".join(map(str, baris)).center(lebar, ' '))"
      ],
      "metadata": {
        "colab": {
          "base_uri": "https://localhost:8080/"
        },
        "id": "H9iV2WOubOL0",
        "outputId": "38b495ec-c229-4cc1-f090-a01160dd97bd"
      },
      "execution_count": 9,
      "outputs": [
        {
          "output_type": "stream",
          "name": "stdout",
          "text": [
            "Tulislah angka: 5\n",
            "    1    \n",
            "   1 1   \n",
            "  1 2 1  \n",
            " 1 3 3 1 \n",
            "1 4 6 4 1\n"
          ]
        }
      ]
    },
    {
      "cell_type": "code",
      "source": [
        "# Exercise 3\n",
        "n = int(input(\"Masukkan angka: \"))\n",
        "\n",
        "segitiga = [[1]]\n",
        "for i in range(1, n):\n",
        "    segitiga.append([1] + [segitiga[-1][j-1] + segitiga[-1][j] for j in range(1, i)] + [1])\n",
        "\n",
        "for baris in segitiga:\n",
        "    print(\" \".join(map(str, baris)).center(2 * n))\n",
        "\n",
        "hasil = sum(segitiga[-1])\n",
        "print(\"Jumlah angka dalam satu baris segitiga Pascal adalah:\", hasil)\n"
      ],
      "metadata": {
        "id": "Tcp4etARi9se",
        "colab": {
          "base_uri": "https://localhost:8080/"
        },
        "outputId": "3442f207-1e23-45ac-de45-ab74ad5ed966"
      },
      "execution_count": 8,
      "outputs": [
        {
          "output_type": "stream",
          "name": "stdout",
          "text": [
            "Masukkan angka: 6\n",
            "     1      \n",
            "    1 1     \n",
            "   1 2 1    \n",
            "  1 3 3 1   \n",
            " 1 4 6 4 1  \n",
            "1 5 10 10 5 1\n",
            "Jumlah angka dalam satu baris segitiga Pascal adalah: 32\n"
          ]
        }
      ]
    }
  ]
}