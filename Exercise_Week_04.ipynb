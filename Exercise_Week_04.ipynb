{
  "nbformat": 4,
  "nbformat_minor": 0,
  "metadata": {
    "colab": {
      "provenance": [],
      "authorship_tag": "ABX9TyPhHHej6G2WnLDO3k0KBhGT",
      "include_colab_link": true
    },
    "kernelspec": {
      "name": "python3",
      "display_name": "Python 3"
    },
    "language_info": {
      "name": "python"
    }
  },
  "cells": [
    {
      "cell_type": "markdown",
      "metadata": {
        "id": "view-in-github",
        "colab_type": "text"
      },
      "source": [
        "<a href=\"https://colab.research.google.com/github/hakkanazrul06/PRAKTIKUMPROJEK1/blob/main/Exercise_Week_04.ipynb\" target=\"_parent\"><img src=\"https://colab.research.google.com/assets/colab-badge.svg\" alt=\"Open In Colab\"/></a>"
      ]
    },
    {
      "cell_type": "code",
      "execution_count": null,
      "metadata": {
        "id": "UX0EPILhjwv7",
        "colab": {
          "base_uri": "https://localhost:8080/"
        },
        "outputId": "024f00f0-36eb-49df-a1d2-648d1e7cc211"
      },
      "outputs": [
        {
          "output_type": "stream",
          "name": "stdout",
          "text": [
            "apakah anda umur anda 17 atau lebih: 19\n",
            "Boleh membuat sim\n"
          ]
        }
      ],
      "source": [
        "#Exercise 1\n",
        "umur=input('apakah umur anda 17 atau lebih? ')\n",
        "umur=int(umur)\n",
        "if umur >= 17:\n",
        "  print('Boleh membuat sim') #jika umur input lebih atau sama dengan 17 akan menghasilkan ini\n",
        "elif umur < 17:\n",
        "  print('tidak boleh membuat sim') #sebaliknya dari hasil input if"
      ]
    },
    {
      "cell_type": "code",
      "source": [
        "# Exercise 2\n",
        "nilai=input('nilai anda berapa: ')\n",
        "nilai=int(nilai)\n",
        "if nilai >= 90:\n",
        "  print('A')\n",
        "elif nilai >= 80:\n",
        "  print('B+')\n",
        "elif nilai >= 70:\n",
        "  print('B')\n",
        "elif nilai >= 60:\n",
        "  print('C+')\n",
        "elif nilai >= 50:\n",
        "  print('C')\n",
        "elif nilai >= 40:\n",
        "  print('D')\n",
        "else: #untuk nilai apapun dibawah 40 tanpa menggunakan elif dan if\n",
        "  print('E') #akan mencetak ini jika kondisi else terpenuhi e.g nilai dibawah 40\n"
      ],
      "metadata": {
        "colab": {
          "base_uri": "https://localhost:8080/"
        },
        "id": "5-Uz3_6MeBQ0",
        "outputId": "6df2f4c3-d5e0-4b49-cbb3-7d5f5193cb9b"
      },
      "execution_count": null,
      "outputs": [
        {
          "output_type": "stream",
          "name": "stdout",
          "text": [
            "nilai anda berapa: 3\n",
            "E\n"
          ]
        }
      ]
    },
    {
      "cell_type": "code",
      "source": [
        "#Exercise 3\n",
        "nilai=input('nilai anda: ')\n",
        "nilai=float(nilai)\n",
        "if nilai >= 80.00:\n",
        "  print('A')\n",
        "elif nilai >= 77.50:\n",
        "  print('A-')\n",
        "elif nilai >= 75.00:\n",
        "  print('AB')\n",
        "elif nilai >= 72.50:\n",
        "  print('B+')\n",
        "elif nilai >= 70.00:\n",
        "  print('B')\n",
        "elif nilai >= 67.50:\n",
        "  print('B-')\n",
        "elif nilai >= 65.00:\n",
        "  print('BC')\n",
        "elif nilai >= 62.50:\n",
        "  print('C+')\n",
        "elif nilai >= 60.00:\n",
        "  print('C')\n",
        "elif nilai >= 55.00:\n",
        "  print('C-')\n",
        "elif nilai >= 50.00:\n",
        "  print('CD')\n",
        "elif nilai >= 45.00:\n",
        "  print('D+')\n",
        "elif nilai >= 40.00:\n",
        "  print('D')\n",
        "else:\n",
        "  print('E')"
      ],
      "metadata": {
        "colab": {
          "base_uri": "https://localhost:8080/"
        },
        "id": "bpcZC-FvgLLW",
        "outputId": "9490af4c-b21f-4c8c-bd94-d5d5df389d4a"
      },
      "execution_count": 4,
      "outputs": [
        {
          "output_type": "stream",
          "name": "stdout",
          "text": [
            "nilai anda: 70.50\n",
            "B\n"
          ]
        }
      ]
    }
  ]
}