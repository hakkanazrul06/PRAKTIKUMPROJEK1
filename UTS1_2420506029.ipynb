{
  "nbformat": 4,
  "nbformat_minor": 0,
  "metadata": {
    "colab": {
      "provenance": [],
      "authorship_tag": "ABX9TyP76Kl4IrP1p7RHltTysusk",
      "include_colab_link": true
    },
    "kernelspec": {
      "name": "python3",
      "display_name": "Python 3"
    },
    "language_info": {
      "name": "python"
    }
  },
  "cells": [
    {
      "cell_type": "markdown",
      "metadata": {
        "id": "view-in-github",
        "colab_type": "text"
      },
      "source": [
        "<a href=\"https://colab.research.google.com/github/hakkanazrul06/PRAKTIKUMPROJEK1/blob/main/UTS1_2420506029.ipynb\" target=\"_parent\"><img src=\"https://colab.research.google.com/assets/colab-badge.svg\" alt=\"Open In Colab\"/></a>"
      ]
    },
    {
      "cell_type": "code",
      "execution_count": 17,
      "metadata": {
        "colab": {
          "base_uri": "https://localhost:8080/"
        },
        "id": "tZ7aEfCiXzPm",
        "outputId": "67d98be5-35a1-4471-9b46-8f1eab89a35f"
      },
      "outputs": [
        {
          "output_type": "stream",
          "name": "stdout",
          "text": [
            "NPM: 2420506029\n",
            "NPM:  2420506029\n",
            "Jumlah angka ganjil:  2\n",
            "jumlah angka genap:  8\n"
          ]
        }
      ],
      "source": [
        "n = input(\"NPM: \") #Input npm pengguna\n",
        "\n",
        "ganjil = 0 #untuk memulai hasil bilangan ganjil dari 0\n",
        "genap = 0 #sama seperti di atas tetapi genap\n",
        "\n",
        "for angka in n: #untuk menghitung angka atau bilangan yang terdapat di npm.\n",
        "  if int(angka) % 2 == 0: #untuk menghitung jika bilangan atau angka habis dibagi 2, maka itu adalah bil. genap.\n",
        "    genap += 1 #untuk menambahkan ke jumlah bilangan genap, jika ditemukan bil. genap maka akan bertambah 1 ke jumlah bil. genap tersebut.\n",
        "\n",
        "  else: #hasil yang aka nterjadi bila bilangan ganjil\n",
        "    ganjil += 1 #menambahkan jumlah ke bilangan ganjil\n",
        "\n",
        "print(\"NPM: \", n)    #print npm\n",
        "print(\"Jumlah angka ganjil: \", ganjil) #print jumlah bilangan ganjil\n",
        "print(\"jumlah angka genap: \", genap) #print jumlah bilangan genap\n",
        "\n"
      ]
    }
  ]
}