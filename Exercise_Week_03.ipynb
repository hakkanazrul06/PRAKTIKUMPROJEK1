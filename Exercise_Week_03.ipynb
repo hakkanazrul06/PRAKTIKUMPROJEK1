{
  "nbformat": 4,
  "nbformat_minor": 0,
  "metadata": {
    "colab": {
      "provenance": [],
      "mount_file_id": "1CIBfuQYPUwb4LgDHe2iTQ3UO-Uv3UpTN",
      "authorship_tag": "ABX9TyN/aDHVosTd5eJMM0xuKZ1W",
      "include_colab_link": true
    },
    "kernelspec": {
      "name": "python3",
      "display_name": "Python 3"
    },
    "language_info": {
      "name": "python"
    }
  },
  "cells": [
    {
      "cell_type": "markdown",
      "metadata": {
        "id": "view-in-github",
        "colab_type": "text"
      },
      "source": [
        "<a href=\"https://colab.research.google.com/github/hakkanazrul06/PRAKTIKUMPROJEK1/blob/main/Exercise_Week_03.ipynb\" target=\"_parent\"><img src=\"https://colab.research.google.com/assets/colab-badge.svg\" alt=\"Open In Colab\"/></a>"
      ]
    },
    {
      "cell_type": "code",
      "source": [
        "# Exercise 1: read\n",
        "with open(\"Biodata.txt\", \"r\") as file1:\n",
        "    FileContent = file1.read()\n",
        "    print(FileContent)\n",
        "\n",
        "# Write\n",
        "with open('/content/writex.txt', 'w') as tulis:\n",
        "    tulis.write(\"Nama          : Hakkan Azrul Suseno\\n\")\n",
        "    tulis.write(\"NPM           : 2420506029\\n\")\n",
        "    tulis.write(\"Alamat        : Kalangan, Salaman\\n\")\n",
        "    tulis.write(\"Program Studi : S1 Teknologi Informasi\")"
      ],
      "metadata": {
        "colab": {
          "base_uri": "https://localhost:8080/"
        },
        "id": "2_9CfEn5TbJd",
        "outputId": "bfdfbb8d-0072-482b-aa47-5de5a6715bb5"
      },
      "execution_count": null,
      "outputs": [
        {
          "output_type": "stream",
          "name": "stdout",
          "text": [
            "Nama: Hakkan Azrul Suseno\n",
            "NPM : 2420506029\n",
            "Alamat : Kalangan, Salaman\n",
            "Program Studi : S1 Teknologi Informasi\n",
            "Hobi : Bersantai\n",
            "Email : azrulsusenohakkan@gmail.com\n"
          ]
        }
      ]
    },
    {
      "cell_type": "code",
      "source": [
        "# Exercise 2\n",
        "print(\"Selamat datang di Toko Maju Jaya\")\n",
        "print(\"Senin, 4 September 2023 13:05\")\n",
        "print(\"Daftar Belanja:  \")\n",
        "\n",
        "item1 = \"Sabun\"\n",
        "item2 = \"Shampo\"\n",
        "item3 = \"Mie instant\"\n",
        "item4 = \"Detergen\"\n",
        "\n",
        "harga1 = 10000\n",
        "harga2 = 15000\n",
        "harga3 = 5000\n",
        "harga4 = 17500\n",
        "\n",
        "total = harga1 + harga2 + harga3 + harga4\n",
        "\n",
        "print(item1, \" = Rp\", + harga1)\n",
        "print(item2, \" = Rp\", + harga2)\n",
        "print(item3, \" = Rp\", + harga3)\n",
        "print(item4, \" = Rp\", + harga4)\n",
        "\n",
        "print(\"Total =  Rp\", + total)\n",
        "\n",
        "with open('/content/Kwitansi.txt', 'w') as tulis:\n",
        "        tulis.write(\"Selamat Datang di Toko Maju Jaya\\n\")\n",
        "        tulis.write(\"Kuitansi - 4 September 2023\\n\")\n",
        "        tulis.write(item1 + \" = Rp \" + str(harga1) + \"\\n\")\n",
        "        tulis.write(item2 + \" = Rp \" + str(harga2) + \"\\n\")\n",
        "        tulis.write(item3 + \" = Rp \" + str(harga3) + \"\\n\")\n",
        "        tulis.write(item4 + \" = Rp \" + str(harga4) + \"\\n\")\n",
        "        tulis.write(\"Total Belanja = \" + str(total))"
      ],
      "metadata": {
        "colab": {
          "base_uri": "https://localhost:8080/"
        },
        "id": "Rp7inqTcXC2e",
        "outputId": "90e2dbb7-bbe5-4f5b-bd19-7c236603ff9c"
      },
      "execution_count": 1,
      "outputs": [
        {
          "output_type": "stream",
          "name": "stdout",
          "text": [
            "Selamat datang di Toko Maju Jaya\n",
            "Senin, 4 September 2023 13:05\n",
            "Daftar Belanja:  \n",
            "Sabun  = Rp 10000\n",
            "Shampo  = Rp 15000\n",
            "Mie instant  = Rp 5000\n",
            "Detergen  = Rp 17500\n",
            "Total =  Rp 47500\n"
          ]
        }
      ]
    }
  ]
}