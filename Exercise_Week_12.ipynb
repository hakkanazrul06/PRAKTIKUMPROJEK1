{
  "nbformat": 4,
  "nbformat_minor": 0,
  "metadata": {
    "colab": {
      "provenance": [],
      "authorship_tag": "ABX9TyN5+U2wiLDtoXVbbhttS3Jh",
      "include_colab_link": true
    },
    "kernelspec": {
      "name": "python3",
      "display_name": "Python 3"
    },
    "language_info": {
      "name": "python"
    }
  },
  "cells": [
    {
      "cell_type": "markdown",
      "metadata": {
        "id": "view-in-github",
        "colab_type": "text"
      },
      "source": [
        "<a href=\"https://colab.research.google.com/github/hakkanazrul06/PRAKTIKUMPROJEK1/blob/main/Exercise_Week_12.ipynb\" target=\"_parent\"><img src=\"https://colab.research.google.com/assets/colab-badge.svg\" alt=\"Open In Colab\"/></a>"
      ]
    },
    {
      "cell_type": "code",
      "source": [
        "# Exercise 1\n",
        "def luas_lingkaran(r): return 3.14 * r * r\n",
        "def luas_persegi(s): return s * s\n",
        "def kalkulator_luas():\n",
        "\n",
        "    while True:\n",
        "        print(\"1. Luas Persegi | 2. Luas Lingkaran | 3. Selesai\")\n",
        "        pilih = input(\"Pilih: \")\n",
        "\n",
        "        if pilih == \"1\":\n",
        "          while True:\n",
        "            try:\n",
        "              s = input(\"Masukkan sisi persegi: \")\n",
        "              s = float(s)\n",
        "              print(f\"Luas persegi adalah {luas_persegi(s)}\")\n",
        "              break\n",
        "            except ValueError:\n",
        "              if s == \"\":\n",
        "                print(\"Tidak boleh kosong.\")\n",
        "              else:\n",
        "                print(\"Harus angka.\")\n",
        "\n",
        "        elif pilih == \"2\":\n",
        "          while True:\n",
        "            try:\n",
        "              r = input(\"Masukkan jari-jari lingkaran: \")\n",
        "              r = float(r)\n",
        "              print(f\"Luas lingkaran adalah {luas_lingkaran(r)}\")\n",
        "              break\n",
        "            except:\n",
        "              if r == \"\":\n",
        "                print(\"Tidak boleh kosong.\")\n",
        "              else:\n",
        "                print(\"Harus angka.\")\n",
        "\n",
        "        elif pilih == \"3\":\n",
        "            print(\"Program selesai.\")\n",
        "            break\n",
        "        elif pilih == \"\":\n",
        "            raise TypeError(\"Pilihan tidak boleh kosong\")\n",
        "        elif pilih != int:\n",
        "            raise TypeError(\"pilihan harus berupa angka\")\n",
        "\n",
        "kalkulator_luas()"
      ],
      "metadata": {
        "colab": {
          "base_uri": "https://localhost:8080/"
        },
        "id": "QLmZXy4M_atI",
        "outputId": "fc8ec7f8-e293-4940-eaae-11539fb7f1c2"
      },
      "execution_count": 3,
      "outputs": [
        {
          "output_type": "stream",
          "name": "stdout",
          "text": [
            "1. Luas Persegi | 2. Luas Lingkaran | 3. Selesai\n",
            "Pilih: 1\n",
            "Masukkan sisi persegi: p\n",
            "Harus angka.\n",
            "Masukkan sisi persegi: \n",
            "Tidak boleh kosong.\n",
            "Masukkan sisi persegi: 5\n",
            "Luas persegi adalah 25.0\n",
            "1. Luas Persegi | 2. Luas Lingkaran | 3. Selesai\n",
            "Pilih: 3\n",
            "Program selesai.\n"
          ]
        }
      ]
    },
    {
      "cell_type": "code",
      "source": [
        "ganjil = 0\n",
        "genap = 0\n",
        "\n",
        "while True:\n",
        "    try:\n",
        "        n = input(\"Masukkan NPM: \")\n",
        "\n",
        "        if n == \"\":\n",
        "            raise ValueError(\"Tidak boleh kosong\")\n",
        "        if not n.isdigit():\n",
        "            raise ValueError(\"Hanya boleh memasukkan angka\")\n",
        "\n",
        "        for angka in n:\n",
        "            if int(angka) % 2 == 0:\n",
        "                genap += 1\n",
        "            else:\n",
        "                ganjil += 1\n",
        "\n",
        "        print(\"Ganjil:\", ganjil)\n",
        "        print(\"Genap :\", genap)\n",
        "        break\n",
        "\n",
        "    except ValueError as a:\n",
        "        print(a)\n"
      ],
      "metadata": {
        "id": "yA2fv14bHCyz",
        "colab": {
          "base_uri": "https://localhost:8080/"
        },
        "outputId": "3aa2ceae-5258-4320-a5ed-2f6765d66039"
      },
      "execution_count": 8,
      "outputs": [
        {
          "output_type": "stream",
          "name": "stdout",
          "text": [
            "Masukkan NPM: k\n",
            "Hanya boleh memasukkan angka\n",
            "Masukkan NPM: \n",
            "Tidak boleh kosong\n",
            "Masukkan NPM: 34343\n",
            "Ganjil: 3\n",
            "Genap : 2\n"
          ]
        }
      ]
    }
  ]
}