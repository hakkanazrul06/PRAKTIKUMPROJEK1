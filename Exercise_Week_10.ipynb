{
  "nbformat": 4,
  "nbformat_minor": 0,
  "metadata": {
    "colab": {
      "provenance": [],
      "authorship_tag": "ABX9TyO32b6ITUcsa0R/scGEJ3BX",
      "include_colab_link": true
    },
    "kernelspec": {
      "name": "python3",
      "display_name": "Python 3"
    },
    "language_info": {
      "name": "python"
    }
  },
  "cells": [
    {
      "cell_type": "markdown",
      "metadata": {
        "id": "view-in-github",
        "colab_type": "text"
      },
      "source": [
        "<a href=\"https://colab.research.google.com/github/hakkanazrul06/PRAKTIKUMPROJEK1/blob/main/Exercise_Week_10.ipynb\" target=\"_parent\"><img src=\"https://colab.research.google.com/assets/colab-badge.svg\" alt=\"Open In Colab\"/></a>"
      ]
    },
    {
      "cell_type": "code",
      "execution_count": 4,
      "metadata": {
        "id": "-eS05WwdtXd7",
        "outputId": "10bc0949-0655-47d2-ec26-fd771281f5fc",
        "colab": {
          "base_uri": "https://localhost:8080/"
        }
      },
      "outputs": [
        {
          "output_type": "stream",
          "name": "stdout",
          "text": [
            "1. Luas Lingkaran | 2. Luas Segitiga | 3. Luas Persegi | 4. Selesai\n",
            "Pilih 1-4: 1\n",
            "Masukkan jari-jari lingkaran: 10\n",
            "Luas lingkaran adalah 314.0\n",
            "1. Luas Lingkaran | 2. Luas Segitiga | 3. Luas Persegi | 4. Selesai\n",
            "Pilih 1-4: 4\n",
            "Program selesai.\n"
          ]
        }
      ],
      "source": [
        "# Exercise 2\n",
        "def luas_lingkaran(r): return 3.14 * r * r\n",
        "def luas_persegi(s): return s * s\n",
        "def luas_segitiga(a, t): return 0.5 * a * t\n",
        "def kalkulator_luas():\n",
        "\n",
        "    while True:\n",
        "        print(\"1. Luas Lingkaran | 2. Luas Segitiga | 3. Luas Persegi | 4. Selesai\")\n",
        "        pilih = input(\"Pilih 1-4: \")\n",
        "\n",
        "        if pilih == '1':\n",
        "            r = float(input(\"Masukkan jari-jari lingkaran: \"))\n",
        "            print(f\"Luas lingkaran adalah {luas_lingkaran(r)}\")\n",
        "        elif pilih == '2':\n",
        "            a = float(input(\"Masukkan alas segitiga: \"))\n",
        "            t = float(input(\"Masukkan tinggi segitiga: \"))\n",
        "            print(f\"Luas segitiga adalah {luas_segitiga(a, t)}\")\n",
        "        elif pilih == '3':\n",
        "            s = float(input(\"Masukkan sisi persegi: \"))\n",
        "            print(f\"Luas persegi adalah {luas_persegi(s)}\")\n",
        "        elif pilih == '4':\n",
        "            print(\"Program selesai.\")\n",
        "            break\n",
        "        else:\n",
        "            print(\"Pilihan tidak valid, silakan coba lagi.\")\n",
        "\n",
        "kalkulator_luas()\n"
      ]
    },
    {
      "cell_type": "code",
      "source": [
        "# Exercise 1\n",
        "def faktorial(n):\n",
        "    return 1 if n <= 1 else n * faktorial(n - 1)\n",
        "\n",
        "n = int(input(\"Masukkan bilangan: \"))\n",
        "print(f\"Nilai faktorial dari {n} adalah {faktorial(n)}\")\n"
      ],
      "metadata": {
        "colab": {
          "base_uri": "https://localhost:8080/"
        },
        "id": "JILdIpGG-AJq",
        "outputId": "bae2d06e-85f6-4507-d414-153917ec9406"
      },
      "execution_count": 8,
      "outputs": [
        {
          "output_type": "stream",
          "name": "stdout",
          "text": [
            "Masukkan bilangan: 4\n",
            "Nilai faktorial dari 4 adalah 24\n"
          ]
        }
      ]
    }
  ]
}