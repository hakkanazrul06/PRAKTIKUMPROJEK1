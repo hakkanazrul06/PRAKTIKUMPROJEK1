{
  "nbformat": 4,
  "nbformat_minor": 0,
  "metadata": {
    "colab": {
      "provenance": [],
      "authorship_tag": "ABX9TyMkJZgNBXcSdZWdg1Pc6skJ",
      "include_colab_link": true
    },
    "kernelspec": {
      "name": "python3",
      "display_name": "Python 3"
    },
    "language_info": {
      "name": "python"
    }
  },
  "cells": [
    {
      "cell_type": "markdown",
      "metadata": {
        "id": "view-in-github",
        "colab_type": "text"
      },
      "source": [
        "<a href=\"https://colab.research.google.com/github/hakkanazrul06/PRAKTIKUMPROJEK1/blob/main/Exercise_Week_11.ipynb\" target=\"_parent\"><img src=\"https://colab.research.google.com/assets/colab-badge.svg\" alt=\"Open In Colab\"/></a>"
      ]
    },
    {
      "cell_type": "code",
      "execution_count": 7,
      "metadata": {
        "colab": {
          "base_uri": "https://localhost:8080/"
        },
        "id": "YPQXlPqIAd67",
        "outputId": "198eeb54-8f05-4d61-8da4-8bc6003fb53b"
      },
      "outputs": [
        {
          "output_type": "stream",
          "name": "stdout",
          "text": [
            "Jari Lingkaran: 5\n",
            "Luas Lingkaran adalah 78.5\n",
            "Sisi Persegi:6\n",
            "\"Luas Persegi adalah 36.0\n"
          ]
        }
      ],
      "source": [
        "import sys\n",
        "sys.path.append('/content/')\n",
        "\n",
        "import math1\n",
        "\n",
        "r = float(input(\"Jari Lingkaran: \"))\n",
        "luas = math1.luas_lingkaran(r)\n",
        "print(f\"Luas Lingkaran adalah {luas}\")\n",
        "\n",
        "s = float(input(\"Sisi Persegi:\"))\n",
        "luas = math1.luas_persegi(s)\n",
        "print(f'\"Luas Persegi adalah {luas}')"
      ]
    },
    {
      "cell_type": "code",
      "source": [
        "import math\n",
        "\n",
        "while True:\n",
        "  print(\"1. Pangkat | 2. Akar Kuadrat | 3. Sin Sudut | 4. Cos Sudut | 5. Faktorial | 6. Selesai\")\n",
        "  pilih = input(\"Pilih perhitungan: \")\n",
        "\n",
        "  if pilih == \"1\":\n",
        "    a = float(input(\"Masukkan angka: \"))\n",
        "    b = float(input(\"Masukkan angka pangkat: \"))\n",
        "    pangkat = math.pow(a, b)\n",
        "    print(f\"{a} pangkat {b} adalah {pangkat}\")\n",
        "\n",
        "  elif pilih == \"2\":\n",
        "    a = float(input(\"Masukkan angka untuk akar kuadrat: \"))\n",
        "    kuadrat = math.sqrt(a)\n",
        "    print(f\"Akar kuadrat dari {a} adalah {kuadrat}\")\n",
        "\n",
        "  elif pilih == \"3\":\n",
        "    a = float(input(\"Masukkan sudut dalam radian untuk sin: \"))\n",
        "    sin = math.sin(a)\n",
        "    print(f\"sin({a}) adalah {sin}\")\n",
        "\n",
        "  elif pilih == \"4\":\n",
        "    a= float(input(\"Mauskkan sudut dalam radian untuk cos: \"))\n",
        "    cos = math.cos(a)\n",
        "    print(f\"cos({a}) adalah {cos}\")\n",
        "\n",
        "  elif pilih == \"5\":\n",
        "    a = int(input(\"Masukkan angka untuk faktorial: \"))\n",
        "    faktorial = math.factorial(a)\n",
        "    print(f\"Faktorial dari {a} adalah {faktorial}\")\n",
        "\n",
        "  elif pilih == \"6\":\n",
        "    print(\"Program diberhentikan.\")\n",
        "    break\n",
        "\n",
        "  else:\n",
        "   print(\"pilihan tidak valid\")"
      ],
      "metadata": {
        "colab": {
          "base_uri": "https://localhost:8080/"
        },
        "id": "p42_TvNrFPwz",
        "outputId": "ffeddb99-e144-48f0-b8c9-a5cf82172fe0"
      },
      "execution_count": 12,
      "outputs": [
        {
          "output_type": "stream",
          "name": "stdout",
          "text": [
            "1. Pangkat | 2. Akar Kuadrat | 3. Sin Sudut | 4. Cos Sudut | \n",
            "Pilih perhitungan: 7\n",
            "pilihan tidak valid\n",
            "1. Pangkat | 2. Akar Kuadrat | 3. Sin Sudut | 4. Cos Sudut | \n",
            "Pilih perhitungan: 6\n",
            "Program diberhentikan.\n"
          ]
        }
      ]
    }
  ]
}