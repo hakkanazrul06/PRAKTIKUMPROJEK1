{
  "nbformat": 4,
  "nbformat_minor": 0,
  "metadata": {
    "colab": {
      "provenance": [],
      "authorship_tag": "ABX9TyO2KmZYVTA2yPojPQok8Ama",
      "include_colab_link": true
    },
    "kernelspec": {
      "name": "python3",
      "display_name": "Python 3"
    },
    "language_info": {
      "name": "python"
    }
  },
  "cells": [
    {
      "cell_type": "markdown",
      "metadata": {
        "id": "view-in-github",
        "colab_type": "text"
      },
      "source": [
        "<a href=\"https://colab.research.google.com/github/hakkanazrul06/PRAKTIKUMPROJEK1/blob/main/Exercise_Week_09.ipynb\" target=\"_parent\"><img src=\"https://colab.research.google.com/assets/colab-badge.svg\" alt=\"Open In Colab\"/></a>"
      ]
    },
    {
      "cell_type": "code",
      "execution_count": 3,
      "metadata": {
        "colab": {
          "base_uri": "https://localhost:8080/"
        },
        "id": "cEq1vDC0L-uO",
        "outputId": "75560611-51cc-46eb-a3af-241e846b0cb6"
      },
      "outputs": [
        {
          "output_type": "stream",
          "name": "stdout",
          "text": [
            "Nama: Nama Mahasiswa\n",
            "Kelas: Kelas Mahasiswa\n",
            "Tanggal Lahir: Tanggal Lahir Mahasiswa\n",
            "No HP: Nomor HP Mahasiswa\n",
            "Alamat: Alamat Mahasiswa\n",
            "Hobi: Hobi 1, Hobi 2, Hobi 3\n"
          ]
        }
      ],
      "source": [
        "datasiswa = {\n",
        "    \"Nama\": \"Nama Mahasiswa\",\n",
        "    \"Kelas\": \"Kelas Mahasiswa\",\n",
        "    \"Tanggal Lahir\": \"Tanggal Lahir Mahasiswa\",\n",
        "    \"No HP\": \"Nomor HP Mahasiswa\",\n",
        "    \"Alamat\": \"Alamat Mahasiswa\",\n",
        "    \"Hobi\": [\"Hobi 1\", \"Hobi 2\", \"Hobi 3\"]\n",
        "}\n",
        "\n",
        "for b, isi in datasiswa.items():\n",
        "    print(f\"{b}: {', '.join(isi) if isinstance(isi, list) else isi}\")"
      ]
    }
  ]
}