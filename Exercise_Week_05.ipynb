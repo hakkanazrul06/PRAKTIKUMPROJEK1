{
  "nbformat": 4,
  "nbformat_minor": 0,
  "metadata": {
    "colab": {
      "provenance": [],
      "authorship_tag": "ABX9TyOlWrM82dq1CCnEuAJ654Yl",
      "include_colab_link": true
    },
    "kernelspec": {
      "name": "python3",
      "display_name": "Python 3"
    },
    "language_info": {
      "name": "python"
    }
  },
  "cells": [
    {
      "cell_type": "markdown",
      "metadata": {
        "id": "view-in-github",
        "colab_type": "text"
      },
      "source": [
        "<a href=\"https://colab.research.google.com/github/hakkanazrul06/PRAKTIKUMPROJEK1/blob/main/Exercise_Week_05.ipynb\" target=\"_parent\"><img src=\"https://colab.research.google.com/assets/colab-badge.svg\" alt=\"Open In Colab\"/></a>"
      ]
    },
    {
      "cell_type": "code",
      "execution_count": null,
      "metadata": {
        "colab": {
          "base_uri": "https://localhost:8080/"
        },
        "id": "8JsX6y7AnkL8",
        "outputId": "0bd6bd67-62c9-4a3b-81b9-13783d3079c5"
      },
      "outputs": [
        {
          "output_type": "stream",
          "name": "stdout",
          "text": [
            "tahun: 2001\n",
            "bukan\n"
          ]
        }
      ],
      "source": [
        "# Exercise 1\n",
        "leap_year=input('tahun: ')\n",
        "leap_year=int(leap_year)\n",
        "if leap_year % 4 == 0:\n",
        "  print(\"leap year\")\n",
        "else:\n",
        "  print(\"bukan\")"
      ]
    },
    {
      "cell_type": "code",
      "source": [
        "# Exercise 2 (range)\n",
        "jawab=[]\n",
        "for b in range(3):\n",
        "  angka=int(input(\"Tulis angka: \"))\n",
        "  jawab.append(angka)\n",
        "\n",
        "angka_terbesar = max(jawab)\n",
        "print(\"Angka terbesar: \", angka_terbesar)"
      ],
      "metadata": {
        "colab": {
          "base_uri": "https://localhost:8080/"
        },
        "id": "hPifj4gWf2vQ",
        "outputId": "e6eae921-50e6-4934-99ea-5313f4a6934c"
      },
      "execution_count": 2,
      "outputs": [
        {
          "output_type": "stream",
          "name": "stdout",
          "text": [
            "Tulis angka: 30\n",
            "Tulis angka: 80\n",
            "Tulis angka: 20\n",
            "Angka terbesar:  80\n"
          ]
        }
      ]
    },
    {
      "cell_type": "code",
      "source": [
        "# Exercise 3\n",
        "username = input(\"member atau non-member? \")\n",
        "discount = 0\n",
        "\n",
        "belanja = float(input(\"total belanja: \"))\n",
        "if belanja > 200000:\n",
        "  discount = 0.04\n",
        "elif belanja > 100000:\n",
        "  discount = 0.03\n",
        "\n",
        "if username == \"member\": discount += 0.02\n",
        "\n",
        "belanja_total = belanja * (1 - discount)\n",
        "\n",
        "print(\"harga akhir: \", belanja_total)"
      ],
      "metadata": {
        "colab": {
          "base_uri": "https://localhost:8080/"
        },
        "id": "60PhTxu7h7wi",
        "outputId": "d31bfc9f-f6b3-4396-f73f-87ed2e75764b"
      },
      "execution_count": 18,
      "outputs": [
        {
          "output_type": "stream",
          "name": "stdout",
          "text": [
            "member atau non-member? member\n",
            "total belanja: 700500\n",
            "harga akhir:  658470.0\n"
          ]
        }
      ]
    },
    {
      "cell_type": "code",
      "source": [
        "# Exercise 4\n",
        "while True:\n",
        "    username = input(\"Username: \")\n",
        "    if username != \"\":\n",
        "        break\n",
        "    else:\n",
        "        print(\"Username tidak boleh kosong.\")\n",
        "\n",
        "while True:\n",
        "    email = input(\"Email: \")\n",
        "    if \"@\" in email:\n",
        "        break\n",
        "    else:\n",
        "        print(\"Email harus ada @.\")\n",
        "\n",
        "while True:\n",
        "    password = input(\"Password: \")\n",
        "    if len(password) > 8:\n",
        "        break\n",
        "    else:\n",
        "        print(\"Password harus melebihi 8 karakter.\")\n",
        "\n",
        "print(\"Akun telah dibuat! Halo \", username)"
      ],
      "metadata": {
        "colab": {
          "base_uri": "https://localhost:8080/"
        },
        "id": "8_ZXkG9eTMDC",
        "outputId": "91dd1eb8-cf44-4cc1-baa3-1911b82aae34"
      },
      "execution_count": 17,
      "outputs": [
        {
          "output_type": "stream",
          "name": "stdout",
          "text": [
            "Username: pokemon\n",
            "Email: ssss\n",
            "Email harus ada @.\n",
            "Email: sss@sss.kom\n",
            "Password: 1234567\n",
            "Password harus melebihi 8 karakter.\n",
            "Password: 123456789\n",
            "Akun telah dibuat! Halo  pokemon\n"
          ]
        }
      ]
    },
    {
      "cell_type": "code",
      "source": [
        "# Exercise 2 (nested if)\n",
        "angka1 = float(input(\"Angka Pertama: \"))\n",
        "angka2 = float(input(\"Angka Kedua: \"))\n",
        "angka3 = float(input(\"Angka Ketiga: \"))\n",
        "\n",
        "if angka1 >= angka2 and angka1 >= angka3:\n",
        "    angka_terbesar = angka1\n",
        "elif angka2 >= angka1 and angka2 >= angka3:\n",
        "    angka_terbesar = angka2\n",
        "else:\n",
        "    angka_terbesar = angka3\n",
        "\n",
        "print(f\"Angka Terbesar adalah: \", angka_terbesar)"
      ],
      "metadata": {
        "colab": {
          "base_uri": "https://localhost:8080/"
        },
        "id": "95QXOXryR2rq",
        "outputId": "24a87a89-8d9b-47b0-c806-35d1e94a5d92"
      },
      "execution_count": 1,
      "outputs": [
        {
          "output_type": "stream",
          "name": "stdout",
          "text": [
            "Angka Pertama: 80\n",
            "Angka Kedua: 10\n",
            "Angka Ketiga: 200\n",
            "Angka Terbesar adalah:  200.0\n"
          ]
        }
      ]
    }
  ]
}