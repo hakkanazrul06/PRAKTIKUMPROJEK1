{
  "nbformat": 4,
  "nbformat_minor": 0,
  "metadata": {
    "colab": {
      "provenance": [],
      "authorship_tag": "ABX9TyPzB33D8copLq2cJRCnDxU4",
      "include_colab_link": true
    },
    "kernelspec": {
      "name": "python3",
      "display_name": "Python 3"
    },
    "language_info": {
      "name": "python"
    }
  },
  "cells": [
    {
      "cell_type": "markdown",
      "metadata": {
        "id": "view-in-github",
        "colab_type": "text"
      },
      "source": [
        "<a href=\"https://colab.research.google.com/github/hakkanazrul06/PRAKTIKUMPROJEK1/blob/main/Exercise_Week_01.ipynb\" target=\"_parent\"><img src=\"https://colab.research.google.com/assets/colab-badge.svg\" alt=\"Open In Colab\"/></a>"
      ]
    },
    {
      "cell_type": "code",
      "execution_count": 4,
      "metadata": {
        "id": "CweFZYY6M0zE",
        "colab": {
          "base_uri": "https://localhost:8080/"
        },
        "outputId": "e50ee11b-1fc2-4d1c-b10f-16b9e7e0111c"
      },
      "outputs": [
        {
          "output_type": "stream",
          "name": "stdout",
          "text": [
            "Nama         : Hakkan Azrul Suseno\n",
            "NPM          : 2420506029\n",
            "Alamat       : Kalangan, Salaman\n",
            "Tinggi Badan : 173 cm\n",
            "Berat Badan  : 45 kg\n"
          ]
        }
      ],
      "source": [
        "# Exercise 1\n",
        "print ('Nama         : Hakkan Azrul Suseno')\n",
        "print ('NPM          : 2420506029')\n",
        "print ('Alamat       : Kalangan, Salaman')\n",
        "print ('Tinggi Badan : 173 cm')\n",
        "print ('Berat Badan  : 45 kg')"
      ]
    },
    {
      "cell_type": "code",
      "source": [
        "# coba-coba\n",
        "while True:\n",
        "  answer=input('Lihat Prodi yang ada di Jurusan Teknik Elektro? ')\n",
        "  if answer == \"Y\" or answer == \"y\":\n",
        "    print ('\\033[1m Universitas Tidar\\033[0m')\n",
        "    print ('Universitas Tidar merupakan Perguruan Tinggi Pemerintah atau Perguruan Tinggi Negeri yang telah ditetapkan berdasarkan Peraturan Presiden Republik Indonesia Nomor 23 Tahun 2014 pada tanggal 1 April 2014.')\n",
        "    print ()\n",
        "    print ('\\033[1m JURUSAN TEKNIK ELEKTRO, MEKATRONIKA DAN INFORMASI \\033[0m')\n",
        "    print ('Jurusan Teknik Elektro terdiri atas tiga program studi, antara lain:')\n",
        "    print ('   1. Teknik Elektro')\n",
        "    print ('   2. Teknologi Informasi')\n",
        "    print ('   3. Teknik Mekatronika')\n",
        "    break\n",
        "  elif answer == \"N\" or answer == \"n\":\n",
        "    print ('Sesi berakhir.')\n",
        "    break\n",
        "  else:\n",
        "    print ('Y atau N. ')\n",
        "\n",
        "\n"
      ],
      "metadata": {
        "colab": {
          "base_uri": "https://localhost:8080/"
        },
        "id": "vE9I-pHtULNZ",
        "outputId": "a91de4a3-4d3c-4723-a5c5-23d451a3c2ea"
      },
      "execution_count": 37,
      "outputs": [
        {
          "output_type": "stream",
          "name": "stdout",
          "text": [
            "Lihat Prodi yang ada di Jurusan Teknik Elektro? n\n",
            "Sesi berakhir.\n"
          ]
        }
      ]
    },
    {
      "cell_type": "code",
      "source": [
        "# Exercise 2\n",
        "print ('\\033[1mUNIVERSITAS TIDAR\\033[0m')\n",
        "print ('Universitas Tidar merupakan Perguruan Tinggi Pemerintah atau Perguruan Tinggi Negeri yang telah ditetapkan berdasarkan Peraturan Presiden Republik Indonesia Nomor 23 Tahun 2014 pada tanggal 1 April 2014.')\n",
        "print ()\n",
        "print ('\\033[1mJURUSAN TEKNIK ELEKTRO, MEKATRONIKA DAN INFORMASI \\033[0m')\n",
        "print ('Jurusan Teknik Elektro terdiri atas tiga program studi, antara lain:')\n",
        "print ('   1. Teknik Elektro')\n",
        "print ('   2. Teknologi Informasi')\n",
        "print ('   3. Teknik Mekatronika')"
      ],
      "metadata": {
        "colab": {
          "base_uri": "https://localhost:8080/"
        },
        "id": "P7qiYRaIgoLL",
        "outputId": "2963e8e8-67dd-40be-b78f-9f96c8ea78c0"
      },
      "execution_count": 38,
      "outputs": [
        {
          "output_type": "stream",
          "name": "stdout",
          "text": [
            "\u001b[1mUNIVERSITAS TIDAR\u001b[0m\n",
            "Universitas Tidar merupakan Perguruan Tinggi Pemerintah atau Perguruan Tinggi Negeri yang telah ditetapkan berdasarkan Peraturan Presiden Republik Indonesia Nomor 23 Tahun 2014 pada tanggal 1 April 2014.\n",
            "\n",
            "\u001b[1mJURUSAN TEKNIK ELEKTRO, MEKATRONIKA DAN INFORMASI \u001b[0m\n",
            "Jurusan Teknik Elektro terdiri atas tiga program studi, antara lain:\n",
            "   1. Teknik Elektro\n",
            "   2. Teknologi Informasi\n",
            "   3. Teknik Mekatronika\n"
          ]
        }
      ]
    }
  ]
}