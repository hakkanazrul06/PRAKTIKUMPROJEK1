{
  "nbformat": 4,
  "nbformat_minor": 0,
  "metadata": {
    "colab": {
      "provenance": [],
      "authorship_tag": "ABX9TyNLnY50g3bBH7XTqrTWRYIq",
      "include_colab_link": true
    },
    "kernelspec": {
      "name": "python3",
      "display_name": "Python 3"
    },
    "language_info": {
      "name": "python"
    }
  },
  "cells": [
    {
      "cell_type": "markdown",
      "metadata": {
        "id": "view-in-github",
        "colab_type": "text"
      },
      "source": [
        "<a href=\"https://colab.research.google.com/github/hakkanazrul06/PRAKTIKUMPROJEK1/blob/main/Praktikum_Akhir_Tim3.ipynb\" target=\"_parent\"><img src=\"https://colab.research.google.com/assets/colab-badge.svg\" alt=\"Open In Colab\"/></a>"
      ]
    },
    {
      "cell_type": "code",
      "execution_count": null,
      "metadata": {
        "colab": {
          "base_uri": "https://localhost:8080/"
        },
        "id": "Jx_Z3I92E64m",
        "outputId": "17881665-84be-4460-a441-6cc8e86bb623"
      },
      "outputs": [
        {
          "output_type": "stream",
          "name": "stdout",
          "text": [
            "\n",
            "Menu:\n",
            "1. Tampilkan semua Pengguna\n",
            "2. Tambah pengguna baru\n",
            "3. Cari pengguna\n",
            "4. Aktifkan akun\n",
            "5. Nonaktifkan akun\n",
            "6. Keluar\n",
            "Pilih menu: 6\n",
            "Program selesai.\n"
          ]
        }
      ],
      "source": [
        "class Pengguna():\n",
        "    def __init__(self, username, email, status_aktif=False):\n",
        "        self.username = username\n",
        "        self.email = email\n",
        "        self.status_aktif = status_aktif\n",
        "\n",
        "    def aktifkan_akun(self):\n",
        "        if self.status_aktif:\n",
        "            raise ValueError(\"Akun sudah aktif.\")\n",
        "        self.status_aktif = True\n",
        "        print(\"Akun berhasil diaktifkan.\")\n",
        "\n",
        "    def nonaktifkan_akun(self):\n",
        "        if not self.status_aktif:\n",
        "            raise ValueError(\"Akun sudah nonaktif.\")\n",
        "        self.status_aktif = False\n",
        "        print(\"Akun berhasil dinonaktifkan.\")\n",
        "\n",
        "daftar_pengguna = []\n",
        "pengguna_dictionary = {}\n",
        "\n",
        "def tampilkan_semua_pengguna():\n",
        "    if not daftar_pengguna:\n",
        "        print(\"Pengguna tidak ditemukan.\")\n",
        "        return\n",
        "    print(\"\\nDaftar Pengguna:\")\n",
        "    for pengguna in daftar_pengguna:\n",
        "        status = \"Aktif\" if pengguna.status_aktif else \"Nonaktif\"\n",
        "        print(f\"Username: {pengguna.username}, Email: {pengguna.email}, Status Pengguna: {status}\")\n",
        "\n",
        "def cari_pengguna(username):\n",
        "    try:\n",
        "        pengguna = pengguna_dictionary[username]\n",
        "        status = \"Aktif\" if pengguna.status_aktif else \"Nonaktif\"\n",
        "        print(f\"\\nDetail User:\\nUsername: {pengguna.username}\\nEmail: {pengguna.email}\\nStatus: {status}\")\n",
        "    except ValueError:\n",
        "        print(\"Pengguna tidak ditemukan.\")\n",
        "\n",
        "def tambah_pengguna(username, email):\n",
        "    if username in pengguna_dictionary:\n",
        "        print(\"Username sudah terdaftar.\")\n",
        "        return\n",
        "    pengguna_baru = Pengguna(username, email)\n",
        "    daftar_pengguna.append(pengguna_baru)\n",
        "    pengguna_dictionary[username] = pengguna_baru\n",
        "    print(\"Pengguna berhasil ditambahkan.\")\n",
        "\n",
        "\n",
        "def input_pengguna_baru():\n",
        "    username = input(\"Masukkan Username: \").strip()\n",
        "    email = input(\"Masukkan Email (contoh@email.com): \").strip()\n",
        "    if username in pengguna_dictionary:\n",
        "        print(\"Username sudah dipakai.\")\n",
        "    else:\n",
        "        tambah_pengguna(username, email)\n",
        "\n",
        "def aktifkan_pengguna(username):\n",
        "    try:\n",
        "        pengguna = pengguna_dictionary[username]\n",
        "        pengguna.aktifkan_akun()\n",
        "    except KeyError:\n",
        "        print(\"Pengguna tidak ditemukan.\")\n",
        "    except ValueError as e:\n",
        "        print(e)\n",
        "\n",
        "def nonaktifkan_pengguna(username):\n",
        "    try:\n",
        "        pengguna = pengguna_dictionary[username]\n",
        "        pengguna.nonaktifkan_akun()\n",
        "    except KeyError:\n",
        "        print(\"Pengguna tidak ditemukan.\")\n",
        "    except ValueError as e:\n",
        "        print(e)\n",
        "\n",
        "if __name__ == \"__main__\":\n",
        "    while True:\n",
        "        print(\"\\nMenu:\")\n",
        "        print(\"1. Tampilkan semua Pengguna\")\n",
        "        print(\"2. Tambah pengguna baru\")\n",
        "        print(\"3. Cari pengguna\")\n",
        "        print(\"4. Aktifkan akun\")\n",
        "        print(\"5. Nonaktifkan akun\")\n",
        "        print(\"6. Keluar\")\n",
        "        pilihan = input(\"Pilih menu: \").strip()\n",
        "\n",
        "        if pilihan == \"1\":\n",
        "            tampilkan_semua_pengguna()\n",
        "        elif pilihan == \"2\":\n",
        "            input_pengguna_baru()\n",
        "        elif pilihan == \"3\":\n",
        "            username = input(\"Masukkan username yang ingin dicari: \").strip()\n",
        "            cari_pengguna(username)\n",
        "        elif pilihan == \"4\":\n",
        "            username = input(\"Masukkan username yang ingin diaktifkan: \").strip()\n",
        "            aktifkan_pengguna(username)\n",
        "        elif pilihan == \"5\":\n",
        "            username = input(\"Masukkan username yang ingin dinonaktifkan: \").strip()\n",
        "            nonaktifkan_pengguna(username)\n",
        "        elif pilihan == \"6\":\n",
        "            print(\"Program selesai.\")\n",
        "            break\n",
        "        else:\n",
        "            print(\"Pilihan tidak valid.\")\n"
      ]
    }
  ]
}