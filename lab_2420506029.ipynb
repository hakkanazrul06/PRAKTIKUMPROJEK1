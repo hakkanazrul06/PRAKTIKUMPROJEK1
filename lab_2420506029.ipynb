{
  "nbformat": 4,
  "nbformat_minor": 0,
  "metadata": {
    "colab": {
      "provenance": [],
      "authorship_tag": "ABX9TyM0e6GbW7fOkdDjGrM1eqTF",
      "include_colab_link": true
    },
    "kernelspec": {
      "name": "python3",
      "display_name": "Python 3"
    },
    "language_info": {
      "name": "python"
    }
  },
  "cells": [
    {
      "cell_type": "markdown",
      "metadata": {
        "id": "view-in-github",
        "colab_type": "text"
      },
      "source": [
        "<a href=\"https://colab.research.google.com/github/hakkanazrul06/PRAKTIKUMPROJEK1/blob/main/lab_2420506029.ipynb\" target=\"_parent\"><img src=\"https://colab.research.google.com/assets/colab-badge.svg\" alt=\"Open In Colab\"/></a>"
      ]
    },
    {
      "cell_type": "code",
      "execution_count": 4,
      "metadata": {
        "colab": {
          "base_uri": "https://localhost:8080/"
        },
        "id": "aLhyr-YaiXQq",
        "outputId": "1454e2e2-e92a-4c9e-b754-f62dfb2ec7f0"
      },
      "outputs": [
        {
          "output_type": "stream",
          "name": "stdout",
          "text": [
            "Masukkan jumlah baris: 5\n",
            "1\n",
            "2 4\n",
            "3 6 9\n",
            "4 8 12 16\n",
            "5 10 15 20 25\n"
          ]
        }
      ],
      "source": [
        "baris = int(input(\"Baris: \")) #input pengguna mengenai berapa baris yang di inginkan\n",
        "\n",
        "for i in range(1, baris + 1): #membuat baris segitiga dengan mengalikan nilai i dengan j\n",
        "    print(' '.join(str(i * j) for j in range(1, i + 1))) #menggabungkan hasil diatas dengan spasi\n"
      ]
    }
  ]
}